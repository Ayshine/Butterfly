{
 "cells": [
  {
   "cell_type": "code",
   "execution_count": 1,
   "metadata": {},
   "outputs": [],
   "source": [
    "# Import required libraries for this section\n",
    "%matplotlib inline\n",
    "import matplotlib.pyplot as plt\n",
    "\n",
    "import numpy as np\n",
    "import cv2\n",
    "\n",
    "import torch\n",
    "import torchvision\n",
    "import torchvision.datasets as dset\n",
    "import torchvision.transforms as transforms\n",
    "from torch.utils.data.sampler import SubsetRandomSampler\n",
    "\n",
    "\n",
    "from torch import nn,optim\n",
    "import torch.nn.functional as F\n",
    "from torchvision import datasets, transforms, models"
   ]
  },
  {
   "cell_type": "markdown",
   "metadata": {},
   "source": [
    "70/30 for train/test"
   ]
  },
  {
   "cell_type": "markdown",
   "metadata": {},
   "source": [
    "Random crops of size 227×227 were generated from inside the 256×256 images to feed the first layer of AlexNet. Note that the paper mentions the network inputs to be 224×224, but that is a mistake and the numbers make sense with 227×227 instead."
   ]
  },
  {
   "cell_type": "code",
   "execution_count": 2,
   "metadata": {},
   "outputs": [],
   "source": [
    "num_workers = 0\n",
    "# how many samples per batch to load\n",
    "batch_size = 20\n",
    "# percentage of data set to use as test\n",
    "test_size = 0.3\n",
    "\n",
    "transform = transforms.Compose([ transforms.CenterCrop(1000), transforms.Resize((299,299)),\n",
    "                                 transforms.ToTensor(),\n",
    "                                 transforms.Normalize((0.5, 0.5, 0.5), (0.5, 0.5, 0.5))])\n",
    "\n",
    "data_set = dset.ImageFolder(root=\"data\",transform=transform)\n",
    "dataloader = torch.utils.data.DataLoader(data_set, batch_size=4,shuffle=True,num_workers=2)\n",
    "\n",
    "# obtain training indices that will be used for test\n",
    "num_data = len(data_set)\n",
    "indices = list(range(num_data))\n",
    "np.random.shuffle(indices)\n",
    "split = int(np.floor(test_size * num_data))\n",
    "train_idx, test_idx = indices[split:], indices[:split]\n",
    "\n",
    "# define samplers for obtaining training and validation batches\n",
    "train_sampler = SubsetRandomSampler(train_idx)\n",
    "test_sampler  = SubsetRandomSampler(test_idx)\n",
    "\n",
    "# prepare data loaders\n",
    "train_loader = torch.utils.data.DataLoader(data_set, batch_size=batch_size,\n",
    "                                           sampler = train_sampler, num_workers=num_workers)\n",
    "test_loader  = torch.utils.data.DataLoader(data_set, batch_size=batch_size, \n",
    "                                           sampler = test_sampler, num_workers=num_workers)\n",
    "\n",
    "classes = ('blurry','clear')"
   ]
  },
  {
   "cell_type": "code",
   "execution_count": 3,
   "metadata": {},
   "outputs": [
    {
     "name": "stdout",
     "output_type": "stream",
     "text": [
      "tensor([[4.9358e-05, 3.0247e-04, 3.9718e-05,  ..., 4.4720e-04, 1.6878e-04,\n",
      "         3.3124e-04],\n",
      "        [9.9329e-05, 8.4195e-04, 7.9929e-05,  ..., 1.2066e-03, 4.6981e-04,\n",
      "         8.5308e-04],\n",
      "        [4.3932e-04, 4.7727e-04, 3.5352e-04,  ..., 1.0682e-03, 2.6632e-04,\n",
      "         1.1772e-03],\n",
      "        ...,\n",
      "        [4.3312e-05, 3.3904e-04, 3.4853e-05,  ..., 4.8921e-04, 1.8919e-04,\n",
      "         3.4953e-04],\n",
      "        [2.6504e-04, 3.0737e-04, 2.1328e-04,  ..., 6.7001e-04, 1.7151e-04,\n",
      "         7.2572e-04],\n",
      "        [2.4870e-04, 2.8715e-04, 2.0012e-04,  ..., 6.2702e-04, 1.6023e-04,\n",
      "         6.7996e-04]])\n"
     ]
    }
   ],
   "source": [
    "model = models.inception_v3(pretrained=True, aux_logits=True)\n",
    "criterion = nn.CrossEntropyLoss()\n",
    "\n",
    "x = torch.randn(2, 3, 299, 299)\n",
    "target = torch.empty(2, dtype=torch.long).random_(1000)\n",
    "\n",
    "output = model(x)\n",
    "loss = criterion(output[0], target)\n",
    "loss.backward()\n",
    "\n",
    "print(model.fc.weight.grad)"
   ]
  },
  {
   "cell_type": "code",
   "execution_count": 4,
   "metadata": {},
   "outputs": [],
   "source": [
    "# Use GPU if it's available\n",
    "from collections import OrderedDict\n",
    "# device = torch.device(\"cuda\" if torch.cuda.is_available() else \"cpu\")\n",
    "\n",
    "model = models.inception_v3(pretrained=True)\n",
    "\n",
    "# Freeze parameters so we don't backprop through them\n",
    "for param in model.parameters():\n",
    "    param.requires_grad = False\n",
    "    \n",
    "fc = nn.Sequential(OrderedDict([\n",
    "                          ('fc1', nn.Linear(2048, 500)),\n",
    "                          ('relu', nn.ReLU()),\n",
    "                          ('fc2', nn.Linear(500, 2)),\n",
    "                          ('output', nn.LogSoftmax(dim=1))\n",
    "                          ]))\n",
    "    \n",
    "model.fc = fc\n",
    "\n",
    "criterion = nn.CrossEntropyLoss()\n",
    "\n",
    "# Only train the classifier parameters, feature parameters are frozen\n",
    "optimizer = optim.Adam(model.fc.parameters(), lr=0.001)\n",
    "\n",
    "device = \"cpu\"\n",
    "model.to(device);\n"
   ]
  },
  {
   "cell_type": "code",
   "execution_count": 5,
   "metadata": {},
   "outputs": [
    {
     "name": "stdout",
     "output_type": "stream",
     "text": [
      "Epoch 1/5.. Train loss: 19.036.. Test loss: 0.523.. Test accuracy: 0.758\n",
      "Epoch 2/5.. Train loss: 15.510.. Test loss: 0.493.. Test accuracy: 0.815\n",
      "Epoch 3/5.. Train loss: 13.721.. Test loss: 0.497.. Test accuracy: 0.735\n",
      "Epoch 4/5.. Train loss: 12.431.. Test loss: 0.425.. Test accuracy: 0.854\n",
      "Epoch 5/5.. Train loss: 13.182.. Test loss: 0.463.. Test accuracy: 0.819\n"
     ]
    }
   ],
   "source": [
    "epochs = 5\n",
    "steps = 0\n",
    "running_loss = 0\n",
    "print_every = 5\n",
    "for epoch in range(epochs):\n",
    "    for inputs, labels in train_loader:\n",
    "        steps += 1\n",
    "        # Move input and label tensors to the default device\n",
    "        inputs, labels = inputs.to(device), labels.to(device)\n",
    "        \n",
    "        optimizer.zero_grad()\n",
    "        \n",
    "        logps = model.forward(inputs)\n",
    "        loss = criterion(logps[0], labels)\n",
    "        loss.backward()\n",
    "        optimizer.step()\n",
    "\n",
    "        running_loss += loss.item()\n",
    "        \n",
    "\n",
    "    test_loss = 0\n",
    "    accuracy = 0\n",
    "    model.eval()\n",
    "    with torch.no_grad():\n",
    "         for inputs, labels in test_loader:\n",
    "            inputs, labels = inputs.to(device), labels.to(device)\n",
    "            logps = model.forward(inputs)\n",
    "            batch_loss = criterion(logps, labels)\n",
    "                    \n",
    "            test_loss += batch_loss.item()\n",
    "                    \n",
    "                    # Calculate accuracy\n",
    "            ps = torch.exp(logps)\n",
    "            top_p, top_class = ps.topk(1, dim=1)\n",
    "            equals = top_class == labels.view(*top_class.shape)\n",
    "            accuracy += torch.mean(equals.type(torch.FloatTensor)).item()\n",
    "                    \n",
    "    print(f\"Epoch {epoch+1}/{epochs}.. \"\n",
    "           f\"Train loss: {running_loss:.3f}.. \"\n",
    "           f\"Test loss: {test_loss/len(test_loader):.3f}.. \"\n",
    "           f\"Test accuracy: {accuracy/len(test_loader):.3f}\")\n",
    "    \n",
    "    with open('inception.csv','a') as f:\n",
    "        f.write(f\"Epoch {epoch+1}/{epochs}.. \"\n",
    "           f\"Train loss: {running_loss:.3f}.. \"\n",
    "           f\"Test loss: {test_loss/len(test_loader):.3f}.. \"\n",
    "           f\"Test accuracy: {accuracy/len(test_loader):.3f}\")\n",
    "        f.write(\"\\n\")\n",
    "        \n",
    "    running_loss = 0\n",
    "    model.train()"
   ]
  },
  {
   "cell_type": "code",
   "execution_count": null,
   "metadata": {},
   "outputs": [],
   "source": []
  }
 ],
 "metadata": {
  "kernelspec": {
   "display_name": "Python 3",
   "language": "python",
   "name": "python3"
  },
  "language_info": {
   "codemirror_mode": {
    "name": "ipython",
    "version": 3
   },
   "file_extension": ".py",
   "mimetype": "text/x-python",
   "name": "python",
   "nbconvert_exporter": "python",
   "pygments_lexer": "ipython3",
   "version": "3.7.1"
  }
 },
 "nbformat": 4,
 "nbformat_minor": 2
}
